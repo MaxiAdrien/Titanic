{
 "cells": [
  {
   "cell_type": "code",
   "execution_count": 11,
   "metadata": {},
   "outputs": [],
   "source": [
    "# Imports\n",
    "\n",
    "import pandas as pd\n",
    "import numpy as np\n",
    "from keras.layers import Dense\n",
    "from keras.models import Sequential\n",
    "from keras.utils import to_categorical"
   ]
  },
  {
   "cell_type": "code",
   "execution_count": 12,
   "metadata": {},
   "outputs": [],
   "source": [
    "# Load data\n",
    "\n",
    "train = pd.read_csv('inputs/train.csv')\n",
    "X_train = pd.read_csv('intermediary_outputs/X_train.csv')\n",
    "X_test = pd.read_csv('intermediary_outputs/X_test.csv')"
   ]
  },
  {
   "cell_type": "code",
   "execution_count": 13,
   "metadata": {},
   "outputs": [
    {
     "name": "stdout",
     "output_type": "stream",
     "text": [
      "[[1. 0.]\n",
      " [0. 1.]\n",
      " [0. 1.]\n",
      " ...\n",
      " [1. 0.]\n",
      " [0. 1.]\n",
      " [1. 0.]]\n"
     ]
    }
   ],
   "source": [
    "# Target\n",
    "\n",
    "y = to_categorical(train['Survived'])\n",
    "\n",
    "print(y)"
   ]
  },
  {
   "cell_type": "code",
   "execution_count": 14,
   "metadata": {},
   "outputs": [
    {
     "name": "stdout",
     "output_type": "stream",
     "text": [
      "Epoch 1/20\n",
      "20/20 [==============================] - 1s 10ms/step - loss: 2.3994 - accuracy: 0.4430 - val_loss: 1.2180 - val_accuracy: 0.3433\n",
      "Epoch 2/20\n",
      "20/20 [==============================] - 0s 3ms/step - loss: 0.9218 - accuracy: 0.5843 - val_loss: 0.6099 - val_accuracy: 0.6866\n",
      "Epoch 3/20\n",
      "20/20 [==============================] - 0s 3ms/step - loss: 0.6911 - accuracy: 0.6613 - val_loss: 0.5721 - val_accuracy: 0.7127\n",
      "Epoch 4/20\n",
      "20/20 [==============================] - 0s 3ms/step - loss: 0.5929 - accuracy: 0.7014 - val_loss: 0.5362 - val_accuracy: 0.7500\n",
      "Epoch 5/20\n",
      "20/20 [==============================] - 0s 3ms/step - loss: 0.5651 - accuracy: 0.7255 - val_loss: 0.5209 - val_accuracy: 0.7575\n",
      "Epoch 6/20\n",
      "20/20 [==============================] - 0s 3ms/step - loss: 0.5371 - accuracy: 0.7496 - val_loss: 0.5094 - val_accuracy: 0.7164\n",
      "Epoch 7/20\n",
      "20/20 [==============================] - 0s 3ms/step - loss: 0.5301 - accuracy: 0.7496 - val_loss: 0.4947 - val_accuracy: 0.7649\n",
      "Epoch 8/20\n",
      "20/20 [==============================] - 0s 3ms/step - loss: 0.5187 - accuracy: 0.7640 - val_loss: 0.4644 - val_accuracy: 0.8022\n",
      "Epoch 9/20\n",
      "20/20 [==============================] - 0s 3ms/step - loss: 0.5126 - accuracy: 0.7753 - val_loss: 0.4851 - val_accuracy: 0.7761\n",
      "Epoch 10/20\n",
      "20/20 [==============================] - 0s 3ms/step - loss: 0.4885 - accuracy: 0.7817 - val_loss: 0.4466 - val_accuracy: 0.8060\n",
      "Epoch 11/20\n",
      "20/20 [==============================] - 0s 3ms/step - loss: 0.4974 - accuracy: 0.7865 - val_loss: 0.4266 - val_accuracy: 0.8134\n",
      "Epoch 12/20\n",
      "20/20 [==============================] - 0s 3ms/step - loss: 0.4676 - accuracy: 0.7945 - val_loss: 0.4452 - val_accuracy: 0.7799\n",
      "Epoch 13/20\n",
      "20/20 [==============================] - 0s 3ms/step - loss: 0.4717 - accuracy: 0.7769 - val_loss: 0.4274 - val_accuracy: 0.8097\n",
      "Epoch 14/20\n",
      "20/20 [==============================] - 0s 5ms/step - loss: 0.4709 - accuracy: 0.7849 - val_loss: 0.4156 - val_accuracy: 0.8358\n",
      "Epoch 15/20\n",
      "20/20 [==============================] - 0s 3ms/step - loss: 0.4480 - accuracy: 0.7978 - val_loss: 0.4506 - val_accuracy: 0.8097\n",
      "Epoch 16/20\n",
      "20/20 [==============================] - 0s 3ms/step - loss: 0.4506 - accuracy: 0.8090 - val_loss: 0.4074 - val_accuracy: 0.8246\n",
      "Epoch 17/20\n",
      "20/20 [==============================] - 0s 2ms/step - loss: 0.4433 - accuracy: 0.8090 - val_loss: 0.4818 - val_accuracy: 0.7687\n",
      "Epoch 18/20\n",
      "20/20 [==============================] - 0s 3ms/step - loss: 0.4348 - accuracy: 0.8074 - val_loss: 0.4241 - val_accuracy: 0.8134\n",
      "Epoch 19/20\n",
      "20/20 [==============================] - 0s 5ms/step - loss: 0.4224 - accuracy: 0.8202 - val_loss: 0.4333 - val_accuracy: 0.8172\n",
      "Epoch 20/20\n",
      "20/20 [==============================] - 0s 3ms/step - loss: 0.4177 - accuracy: 0.8283 - val_loss: 0.4019 - val_accuracy: 0.8246\n"
     ]
    },
    {
     "data": {
      "text/plain": [
       "<keras.callbacks.History at 0x1552f3550>"
      ]
     },
     "execution_count": 14,
     "metadata": {},
     "output_type": "execute_result"
    }
   ],
   "source": [
    "# Neural network model\n",
    "\n",
    "n_cols = X_train.shape[1]\n",
    "\n",
    "model = Sequential()\n",
    "model.add(Dense(40, activation='relu', input_shape=(n_cols,)))\n",
    "model.add(Dense(20, activation='relu'))\n",
    "model.add(Dense(2, activation='softmax'))\n",
    "model.compile(optimizer='adam', loss='categorical_crossentropy', metrics=['accuracy'])\n",
    "\n",
    "model.fit(X_train, y, validation_split=0.30, batch_size=32, epochs=20)"
   ]
  },
  {
   "cell_type": "code",
   "execution_count": 19,
   "metadata": {},
   "outputs": [
    {
     "name": "stdout",
     "output_type": "stream",
     "text": [
      "14/14 [==============================] - 0s 751us/step\n"
     ]
    },
    {
     "data": {
      "text/html": [
       "<div>\n",
       "<style scoped>\n",
       "    .dataframe tbody tr th:only-of-type {\n",
       "        vertical-align: middle;\n",
       "    }\n",
       "\n",
       "    .dataframe tbody tr th {\n",
       "        vertical-align: top;\n",
       "    }\n",
       "\n",
       "    .dataframe thead th {\n",
       "        text-align: right;\n",
       "    }\n",
       "</style>\n",
       "<table border=\"1\" class=\"dataframe\">\n",
       "  <thead>\n",
       "    <tr style=\"text-align: right;\">\n",
       "      <th></th>\n",
       "      <th>PassengerId</th>\n",
       "      <th>Survived</th>\n",
       "      <th>SurvivalProbability</th>\n",
       "    </tr>\n",
       "  </thead>\n",
       "  <tbody>\n",
       "    <tr>\n",
       "      <th>0</th>\n",
       "      <td>892</td>\n",
       "      <td>0</td>\n",
       "      <td>0.15</td>\n",
       "    </tr>\n",
       "    <tr>\n",
       "      <th>1</th>\n",
       "      <td>893</td>\n",
       "      <td>0</td>\n",
       "      <td>0.29</td>\n",
       "    </tr>\n",
       "    <tr>\n",
       "      <th>2</th>\n",
       "      <td>894</td>\n",
       "      <td>0</td>\n",
       "      <td>0.32</td>\n",
       "    </tr>\n",
       "    <tr>\n",
       "      <th>3</th>\n",
       "      <td>895</td>\n",
       "      <td>0</td>\n",
       "      <td>0.06</td>\n",
       "    </tr>\n",
       "    <tr>\n",
       "      <th>4</th>\n",
       "      <td>896</td>\n",
       "      <td>1</td>\n",
       "      <td>0.62</td>\n",
       "    </tr>\n",
       "    <tr>\n",
       "      <th>5</th>\n",
       "      <td>897</td>\n",
       "      <td>0</td>\n",
       "      <td>0.16</td>\n",
       "    </tr>\n",
       "    <tr>\n",
       "      <th>6</th>\n",
       "      <td>898</td>\n",
       "      <td>0</td>\n",
       "      <td>0.47</td>\n",
       "    </tr>\n",
       "    <tr>\n",
       "      <th>7</th>\n",
       "      <td>899</td>\n",
       "      <td>1</td>\n",
       "      <td>0.56</td>\n",
       "    </tr>\n",
       "    <tr>\n",
       "      <th>8</th>\n",
       "      <td>900</td>\n",
       "      <td>1</td>\n",
       "      <td>0.67</td>\n",
       "    </tr>\n",
       "    <tr>\n",
       "      <th>9</th>\n",
       "      <td>901</td>\n",
       "      <td>0</td>\n",
       "      <td>0.23</td>\n",
       "    </tr>\n",
       "  </tbody>\n",
       "</table>\n",
       "</div>"
      ],
      "text/plain": [
       "   PassengerId  Survived  SurvivalProbability\n",
       "0          892         0                 0.15\n",
       "1          893         0                 0.29\n",
       "2          894         0                 0.32\n",
       "3          895         0                 0.06\n",
       "4          896         1                 0.62\n",
       "5          897         0                 0.16\n",
       "6          898         0                 0.47\n",
       "7          899         1                 0.56\n",
       "8          900         1                 0.67\n",
       "9          901         0                 0.23"
      ]
     },
     "execution_count": 19,
     "metadata": {},
     "output_type": "execute_result"
    }
   ],
   "source": [
    "# Make predictions\n",
    "\n",
    "probabilities = model.predict(X_test)\n",
    "threshold = 0.5\n",
    "\n",
    "submission = pd.DataFrame(columns=['PassengerId', 'Survived'])\n",
    "submission['SurvivalProbability'] = probabilities[:, 1].round(2)\n",
    "submission['Survived'] = np.where(submission['SurvivalProbability'] > threshold, 1, 0)\n",
    "submission['PassengerId'] = submission.index + 892\n",
    "\n",
    "submission.head(10)"
   ]
  },
  {
   "cell_type": "code",
   "execution_count": 16,
   "metadata": {},
   "outputs": [],
   "source": [
    "# Export to csv\n",
    "\n",
    "submission.to_csv('outputs/submission_nn.csv', index=False)"
   ]
  }
 ],
 "metadata": {
  "kernelspec": {
   "display_name": "venv",
   "language": "python",
   "name": "python3"
  },
  "language_info": {
   "codemirror_mode": {
    "name": "ipython",
    "version": 3
   },
   "file_extension": ".py",
   "mimetype": "text/x-python",
   "name": "python",
   "nbconvert_exporter": "python",
   "pygments_lexer": "ipython3",
   "version": "3.11.3"
  },
  "orig_nbformat": 4
 },
 "nbformat": 4,
 "nbformat_minor": 2
}
