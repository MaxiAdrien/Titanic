{
 "cells": [
  {
   "cell_type": "code",
   "execution_count": 22,
   "metadata": {},
   "outputs": [],
   "source": [
    "# Imports\n",
    "\n",
    "import pandas as pd\n",
    "import warnings\n",
    "from sklearn.exceptions import ConvergenceWarning\n",
    "from sklearn.model_selection import GridSearchCV\n",
    "from sklearn.neural_network import MLPClassifier"
   ]
  },
  {
   "cell_type": "code",
   "execution_count": 23,
   "metadata": {},
   "outputs": [],
   "source": [
    "# Load data\n",
    "\n",
    "train = pd.read_csv('inputs/train.csv')\n",
    "X_train = pd.read_csv('intermediary_outputs/X_train.csv')\n",
    "X_test = pd.read_csv('intermediary_outputs/X_test.csv')\n",
    "\n",
    "# Target\n",
    "\n",
    "y = train['Survived']"
   ]
  },
  {
   "cell_type": "code",
   "execution_count": 24,
   "metadata": {},
   "outputs": [],
   "source": [
    "# Neural network\n",
    "\n",
    "mlp = MLPClassifier(random_state=188)\n",
    "warnings.filterwarnings(\"ignore\", category=ConvergenceWarning)"
   ]
  },
  {
   "cell_type": "code",
   "execution_count": 25,
   "metadata": {},
   "outputs": [
    {
     "name": "stdout",
     "output_type": "stream",
     "text": [
      "Fitting 5 folds for each of 32 candidates, totalling 160 fits\n",
      "Average scores: [0.8148, 0.8227, 0.8249, 0.8238, 0.8025, 0.8216, 0.826, 0.8193, 0.8081, 0.8216, 0.8294, 0.826, 0.8092, 0.8171, 0.8249, 0.826, 0.8316, 0.8272, 0.8272, 0.8193, 0.835, 0.8272, 0.8249, 0.8182, 0.8305, 0.8227, 0.8305, 0.8182, 0.8305, 0.8272, 0.826, 0.8205]\n",
      "Score standard deviations: [0.017, 0.023, 0.019, 0.025, 0.012, 0.023, 0.02, 0.023, 0.013, 0.026, 0.02, 0.024, 0.013, 0.019, 0.015, 0.02, 0.019, 0.018, 0.022, 0.021, 0.02, 0.015, 0.023, 0.026, 0.02, 0.019, 0.021, 0.024, 0.019, 0.015, 0.02, 0.024]\n",
      "Best parameters: {'activation': 'tanh', 'alpha': 0.001, 'hidden_layer_sizes': (16,)}\n",
      "Best score: 0.835\n"
     ]
    }
   ],
   "source": [
    "# Hyperparameter tuning\n",
    "\n",
    "tuned_parameters = {\n",
    "    'hidden_layer_sizes': [(16,), (32,), (64,), (128,)],\n",
    "    'activation': ['relu', 'tanh'],\n",
    "    'alpha': [0.0001, 0.001, 0.01, 0.1]\n",
    "}\n",
    "\n",
    "model = GridSearchCV(mlp, tuned_parameters, cv=5, verbose=1)\n",
    "model.fit(X_train, y)\n",
    "\n",
    "scores = model.cv_results_['mean_test_score']\n",
    "scores_std = model.cv_results_['std_test_score']\n",
    "\n",
    "print('Average scores:', list(scores.round(4)))\n",
    "print('Score standard deviations:', list(scores_std.round(3)))\n",
    "print('Best parameters:', model.best_params_)\n",
    "print('Best score:', round(model.best_score_, 4))"
   ]
  },
  {
   "cell_type": "code",
   "execution_count": 26,
   "metadata": {},
   "outputs": [
    {
     "data": {
      "text/html": [
       "<div>\n",
       "<style scoped>\n",
       "    .dataframe tbody tr th:only-of-type {\n",
       "        vertical-align: middle;\n",
       "    }\n",
       "\n",
       "    .dataframe tbody tr th {\n",
       "        vertical-align: top;\n",
       "    }\n",
       "\n",
       "    .dataframe thead th {\n",
       "        text-align: right;\n",
       "    }\n",
       "</style>\n",
       "<table border=\"1\" class=\"dataframe\">\n",
       "  <thead>\n",
       "    <tr style=\"text-align: right;\">\n",
       "      <th></th>\n",
       "      <th>PassengerId</th>\n",
       "      <th>Survived</th>\n",
       "      <th>SurvivalProbability</th>\n",
       "    </tr>\n",
       "  </thead>\n",
       "  <tbody>\n",
       "    <tr>\n",
       "      <th>0</th>\n",
       "      <td>892</td>\n",
       "      <td>0</td>\n",
       "      <td>0.06</td>\n",
       "    </tr>\n",
       "    <tr>\n",
       "      <th>1</th>\n",
       "      <td>893</td>\n",
       "      <td>0</td>\n",
       "      <td>0.27</td>\n",
       "    </tr>\n",
       "    <tr>\n",
       "      <th>2</th>\n",
       "      <td>894</td>\n",
       "      <td>0</td>\n",
       "      <td>0.18</td>\n",
       "    </tr>\n",
       "    <tr>\n",
       "      <th>3</th>\n",
       "      <td>895</td>\n",
       "      <td>0</td>\n",
       "      <td>0.06</td>\n",
       "    </tr>\n",
       "    <tr>\n",
       "      <th>4</th>\n",
       "      <td>896</td>\n",
       "      <td>0</td>\n",
       "      <td>0.46</td>\n",
       "    </tr>\n",
       "    <tr>\n",
       "      <th>5</th>\n",
       "      <td>897</td>\n",
       "      <td>0</td>\n",
       "      <td>0.07</td>\n",
       "    </tr>\n",
       "    <tr>\n",
       "      <th>6</th>\n",
       "      <td>898</td>\n",
       "      <td>0</td>\n",
       "      <td>0.34</td>\n",
       "    </tr>\n",
       "    <tr>\n",
       "      <th>7</th>\n",
       "      <td>899</td>\n",
       "      <td>0</td>\n",
       "      <td>0.32</td>\n",
       "    </tr>\n",
       "    <tr>\n",
       "      <th>8</th>\n",
       "      <td>900</td>\n",
       "      <td>1</td>\n",
       "      <td>0.83</td>\n",
       "    </tr>\n",
       "    <tr>\n",
       "      <th>9</th>\n",
       "      <td>901</td>\n",
       "      <td>0</td>\n",
       "      <td>0.06</td>\n",
       "    </tr>\n",
       "  </tbody>\n",
       "</table>\n",
       "</div>"
      ],
      "text/plain": [
       "   PassengerId  Survived  SurvivalProbability\n",
       "0          892         0                 0.06\n",
       "1          893         0                 0.27\n",
       "2          894         0                 0.18\n",
       "3          895         0                 0.06\n",
       "4          896         0                 0.46\n",
       "5          897         0                 0.07\n",
       "6          898         0                 0.34\n",
       "7          899         0                 0.32\n",
       "8          900         1                 0.83\n",
       "9          901         0                 0.06"
      ]
     },
     "execution_count": 26,
     "metadata": {},
     "output_type": "execute_result"
    }
   ],
   "source": [
    "# Make predictions\n",
    "\n",
    "probabilities = model.predict_proba(X_test)\n",
    "predictions = model.predict(X_test)\n",
    "\n",
    "submission = pd.DataFrame(columns=['PassengerId', 'Survived'])\n",
    "submission['SurvivalProbability'] = probabilities[:, 1].round(2)\n",
    "submission['Survived'] = predictions\n",
    "submission['PassengerId'] = submission.index + 892\n",
    "\n",
    "submission.head(10)"
   ]
  },
  {
   "cell_type": "code",
   "execution_count": 27,
   "metadata": {},
   "outputs": [],
   "source": [
    "# Export to csv\n",
    "\n",
    "submission[['PassengerId', 'Survived']].to_csv('outputs/submission_nn.csv', index=False)"
   ]
  }
 ],
 "metadata": {
  "kernelspec": {
   "display_name": "venv",
   "language": "python",
   "name": "python3"
  },
  "language_info": {
   "codemirror_mode": {
    "name": "ipython",
    "version": 3
   },
   "file_extension": ".py",
   "mimetype": "text/x-python",
   "name": "python",
   "nbconvert_exporter": "python",
   "pygments_lexer": "ipython3",
   "version": "3.11.3"
  },
  "orig_nbformat": 4
 },
 "nbformat": 4,
 "nbformat_minor": 2
}
