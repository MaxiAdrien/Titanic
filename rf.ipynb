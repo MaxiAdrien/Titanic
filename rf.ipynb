{
 "cells": [
  {
   "cell_type": "code",
   "execution_count": 9,
   "metadata": {},
   "outputs": [],
   "source": [
    "# Imports\n",
    "\n",
    "import pandas as pd\n",
    "from sklearn.ensemble import RandomForestClassifier\n",
    "from sklearn.model_selection import GridSearchCV"
   ]
  },
  {
   "cell_type": "code",
   "execution_count": 10,
   "metadata": {},
   "outputs": [],
   "source": [
    "# Load data\n",
    "\n",
    "train = pd.read_csv('inputs/train.csv')\n",
    "X_train = pd.read_csv('intermediary_outputs/X_train.csv')\n",
    "X_test = pd.read_csv('intermediary_outputs/X_test.csv')\n",
    "\n",
    "# Target\n",
    "\n",
    "y = train['Survived']"
   ]
  },
  {
   "cell_type": "code",
   "execution_count": 11,
   "metadata": {},
   "outputs": [],
   "source": [
    "# Random forests model\n",
    "\n",
    "rf = RandomForestClassifier(oob_score=True, n_jobs=-1, random_state=188)"
   ]
  },
  {
   "cell_type": "code",
   "execution_count": 12,
   "metadata": {},
   "outputs": [
    {
     "name": "stdout",
     "output_type": "stream",
     "text": [
      "Fitting 3 folds for each of 1 candidates, totalling 3 fits\n",
      "[CV 1/3] END criterion=entropy, max_features=0.225, min_samples_leaf=1, min_samples_split=7, n_estimators=700;, score=0.835 total time=   0.8s\n",
      "[CV 2/3] END criterion=entropy, max_features=0.225, min_samples_leaf=1, min_samples_split=7, n_estimators=700;, score=0.865 total time=   0.8s\n",
      "[CV 3/3] END criterion=entropy, max_features=0.225, min_samples_leaf=1, min_samples_split=7, n_estimators=700;, score=0.845 total time=   0.9s\n",
      "Average scores: [0.8485]\n",
      "Score standard deviations: [0.013]\n",
      "Best parameters: {'criterion': 'entropy', 'max_features': 0.225, 'min_samples_leaf': 1, 'min_samples_split': 7, 'n_estimators': 700}\n",
      "Best score: 0.8485\n"
     ]
    }
   ],
   "source": [
    "# Hyperparameter tuning\n",
    "\n",
    "tuned_parameters = [{'n_estimators': [300, 500, 700, 900],\n",
    "                     'criterion': ['gini', 'entropy'],\n",
    "                     'min_samples_split': [5, 6, 7, 8, 9],\n",
    "                     'min_samples_leaf': [1, 2, 3, 4],\n",
    "                     'max_features': [0.20, 0.225, 0.25, 0.275, 0.30]}]\n",
    "\n",
    "model = GridSearchCV(rf, tuned_parameters, cv=3, verbose=3)\n",
    "model.fit(X_train, y)\n",
    "\n",
    "scores = model.cv_results_['mean_test_score']\n",
    "scores_std = model.cv_results_['std_test_score']\n",
    "\n",
    "print('Average scores:', scores.round(4))\n",
    "print('Score standard deviations:', scores_std.round(3))\n",
    "print('Best parameters:', model.best_params_)\n",
    "print('Best score:', round(model.best_score_, 4))"
   ]
  },
  {
   "cell_type": "code",
   "execution_count": 22,
   "metadata": {},
   "outputs": [
    {
     "name": "stdout",
     "output_type": "stream",
     "text": [
      "FEATURE IMPORTANCES (TOP 15)\n"
     ]
    },
    {
     "data": {
      "text/plain": [
       "Fare                     0.13\n",
       "Age                      0.11\n",
       "Mr                       0.11\n",
       "NameLength               0.11\n",
       "Female                   0.11\n",
       "TicketLength             0.05\n",
       "Miss                     0.03\n",
       "Mrs                      0.03\n",
       "CabinMissing             0.03\n",
       "FamilySizeSmall          0.03\n",
       "FamilySizeBig            0.03\n",
       "TicketFirstCharacter1    0.02\n",
       "FirstClass               0.02\n",
       "SecondClass              0.02\n",
       "TicketFirstCharacter3    0.02\n",
       "dtype: float64"
      ]
     },
     "execution_count": 22,
     "metadata": {},
     "output_type": "execute_result"
    }
   ],
   "source": [
    "# Feature importances\n",
    "\n",
    "best_rf = RandomForestClassifier(criterion='entropy',\n",
    "                                 max_features=0.225,\n",
    "                                 min_samples_leaf=1,\n",
    "                                 min_samples_split=7,\n",
    "                                 n_estimators=700,\n",
    "                                 oob_score=True,\n",
    "                                 n_jobs=-1)\n",
    "\n",
    "best_rf.fit(X_train, y)\n",
    "\n",
    "feature_importances = pd.Series(best_rf.feature_importances_.round(2), index=X_train.columns)\n",
    "\n",
    "print('FEATURE IMPORTANCES (TOP 15)')\n",
    "feature_importances.sort_values(ascending=False).head(15)"
   ]
  },
  {
   "cell_type": "code",
   "execution_count": 25,
   "metadata": {},
   "outputs": [
    {
     "data": {
      "text/html": [
       "<div>\n",
       "<style scoped>\n",
       "    .dataframe tbody tr th:only-of-type {\n",
       "        vertical-align: middle;\n",
       "    }\n",
       "\n",
       "    .dataframe tbody tr th {\n",
       "        vertical-align: top;\n",
       "    }\n",
       "\n",
       "    .dataframe thead th {\n",
       "        text-align: right;\n",
       "    }\n",
       "</style>\n",
       "<table border=\"1\" class=\"dataframe\">\n",
       "  <thead>\n",
       "    <tr style=\"text-align: right;\">\n",
       "      <th></th>\n",
       "      <th>PassengerId</th>\n",
       "      <th>Survived</th>\n",
       "    </tr>\n",
       "  </thead>\n",
       "  <tbody>\n",
       "    <tr>\n",
       "      <th>0</th>\n",
       "      <td>892</td>\n",
       "      <td>0</td>\n",
       "    </tr>\n",
       "    <tr>\n",
       "      <th>1</th>\n",
       "      <td>893</td>\n",
       "      <td>1</td>\n",
       "    </tr>\n",
       "    <tr>\n",
       "      <th>2</th>\n",
       "      <td>894</td>\n",
       "      <td>0</td>\n",
       "    </tr>\n",
       "    <tr>\n",
       "      <th>3</th>\n",
       "      <td>895</td>\n",
       "      <td>0</td>\n",
       "    </tr>\n",
       "    <tr>\n",
       "      <th>4</th>\n",
       "      <td>896</td>\n",
       "      <td>1</td>\n",
       "    </tr>\n",
       "    <tr>\n",
       "      <th>5</th>\n",
       "      <td>897</td>\n",
       "      <td>0</td>\n",
       "    </tr>\n",
       "    <tr>\n",
       "      <th>6</th>\n",
       "      <td>898</td>\n",
       "      <td>0</td>\n",
       "    </tr>\n",
       "    <tr>\n",
       "      <th>7</th>\n",
       "      <td>899</td>\n",
       "      <td>0</td>\n",
       "    </tr>\n",
       "    <tr>\n",
       "      <th>8</th>\n",
       "      <td>900</td>\n",
       "      <td>1</td>\n",
       "    </tr>\n",
       "    <tr>\n",
       "      <th>9</th>\n",
       "      <td>901</td>\n",
       "      <td>0</td>\n",
       "    </tr>\n",
       "  </tbody>\n",
       "</table>\n",
       "</div>"
      ],
      "text/plain": [
       "   PassengerId  Survived\n",
       "0          892         0\n",
       "1          893         1\n",
       "2          894         0\n",
       "3          895         0\n",
       "4          896         1\n",
       "5          897         0\n",
       "6          898         0\n",
       "7          899         0\n",
       "8          900         1\n",
       "9          901         0"
      ]
     },
     "execution_count": 25,
     "metadata": {},
     "output_type": "execute_result"
    }
   ],
   "source": [
    "# Make predictions\n",
    "\n",
    "submission = pd.DataFrame(columns=['PassengerId', 'Survived'])\n",
    "submission['Survived'] = model.predict(X_test)\n",
    "submission['PassengerId'] = submission.index + 892\n",
    "submission.head(10)"
   ]
  },
  {
   "cell_type": "code",
   "execution_count": 26,
   "metadata": {},
   "outputs": [],
   "source": [
    "# Export to csv\n",
    "\n",
    "submission.to_csv('outputs/submission_rf.csv', index=False)"
   ]
  }
 ],
 "metadata": {
  "kernelspec": {
   "display_name": "venv",
   "language": "python",
   "name": "python3"
  },
  "language_info": {
   "codemirror_mode": {
    "name": "ipython",
    "version": 3
   },
   "file_extension": ".py",
   "mimetype": "text/x-python",
   "name": "python",
   "nbconvert_exporter": "python",
   "pygments_lexer": "ipython3",
   "version": "3.11.3"
  },
  "orig_nbformat": 4
 },
 "nbformat": 4,
 "nbformat_minor": 2
}
