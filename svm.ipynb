{
 "cells": [
  {
   "cell_type": "code",
   "execution_count": 1,
   "metadata": {},
   "outputs": [],
   "source": [
    "# Imports\n",
    "\n",
    "import pandas as pd\n",
    "import numpy as np\n",
    "from sklearn.pipeline import Pipeline\n",
    "from sklearn.preprocessing import StandardScaler\n",
    "from sklearn.svm import SVC\n",
    "from sklearn.model_selection import GridSearchCV"
   ]
  },
  {
   "cell_type": "code",
   "execution_count": 2,
   "metadata": {},
   "outputs": [],
   "source": [
    "# Load data\n",
    "\n",
    "train = pd.read_csv('inputs/train.csv')\n",
    "X_train = pd.read_csv('intermediary_outputs/X_train.csv')\n",
    "X_test = pd.read_csv('intermediary_outputs/X_test.csv')\n",
    "\n",
    "# Target\n",
    "\n",
    "y = train['Survived']"
   ]
  },
  {
   "cell_type": "code",
   "execution_count": 3,
   "metadata": {},
   "outputs": [],
   "source": [
    "# Pipeline - feature scaling and SVC model\n",
    "\n",
    "pipeline = Pipeline([('scaler', StandardScaler()),\n",
    "                     ('SVM', SVC())])"
   ]
  },
  {
   "cell_type": "code",
   "execution_count": 11,
   "metadata": {},
   "outputs": [
    {
     "name": "stdout",
     "output_type": "stream",
     "text": [
      "Fitting 5 folds for each of 96 candidates, totalling 480 fits\n",
      "Average scores: [0.8215 0.8204 0.7845 0.8058 0.8215 0.8204 0.7845 0.8058 0.8215 0.7105\n",
      " 0.7845 0.8058 0.8215 0.7105 0.7845 0.8058 0.8215 0.7385 0.7845 0.8058\n",
      " 0.8215 0.7385 0.7845 0.8058 0.8215 0.7251 0.7845 0.8058 0.8215 0.7251\n",
      " 0.7845 0.8058 0.8114 0.8204 0.8384 0.7486 0.8114 0.8204 0.8384 0.7486\n",
      " 0.8114 0.825  0.8384 0.7486 0.8114 0.825  0.8384 0.7486 0.8114 0.8272\n",
      " 0.8384 0.7486 0.8114 0.8272 0.8384 0.7486 0.8114 0.7924 0.8384 0.7486\n",
      " 0.8114 0.7924 0.8384 0.7486 0.8103 0.8148 0.8205 0.7195 0.8103 0.8148\n",
      " 0.8205 0.7195 0.8103 0.8193 0.8205 0.7195 0.8103 0.8193 0.8205 0.7195\n",
      " 0.8103 0.8059 0.8205 0.7195 0.8103 0.8059 0.8205 0.7195 0.8103 0.807\n",
      " 0.8205 0.7195 0.8103 0.807  0.8205 0.7195]\n",
      "Score standard deviations: [0.02   0.0275 0.0269 0.0309 0.02   0.0275 0.0269 0.0309 0.02   0.0296\n",
      " 0.0269 0.0309 0.02   0.0296 0.0269 0.0309 0.02   0.0144 0.0269 0.0309\n",
      " 0.02   0.0144 0.0269 0.0309 0.02   0.0246 0.0269 0.0309 0.02   0.0246\n",
      " 0.0269 0.0309 0.0227 0.0211 0.0223 0.0173 0.0227 0.0211 0.0223 0.0173\n",
      " 0.0227 0.0301 0.0223 0.0173 0.0227 0.0301 0.0223 0.0173 0.0227 0.0114\n",
      " 0.0223 0.0173 0.0227 0.0114 0.0223 0.0173 0.0227 0.0163 0.0223 0.0173\n",
      " 0.0227 0.0163 0.0223 0.0173 0.023  0.025  0.0152 0.0289 0.023  0.025\n",
      " 0.0152 0.0289 0.023  0.0172 0.0152 0.0289 0.023  0.0172 0.0152 0.0289\n",
      " 0.023  0.0212 0.0152 0.0289 0.023  0.0212 0.0152 0.0289 0.023  0.0211\n",
      " 0.0152 0.0289 0.023  0.0211 0.0152 0.0289]\n",
      "Best parameters: {'SVM__C': 1, 'SVM__degree': 1, 'SVM__gamma': 'scale', 'SVM__kernel': 'rbf'}\n",
      "Best score: 0.8384\n"
     ]
    }
   ],
   "source": [
    "# Hyperparameter tuning\n",
    "\n",
    "tuned_parameters = [{'SVM__C': [0.1, 1, 10],\n",
    "                     'SVM__kernel': ['linear', 'poly', 'rbf', 'sigmoid'],\n",
    "                     'SVM__degree': [1, 2, 3, 4],\n",
    "                     'SVM__gamma': ['scale', 'auto']}]\n",
    "model = GridSearchCV(pipeline, tuned_parameters, cv=5, verbose=1)\n",
    "model.fit(X_train, y)\n",
    "\n",
    "scores = model.cv_results_['mean_test_score']\n",
    "scores_std = model.cv_results_['std_test_score']\n",
    "print('Average scores:', scores.round(4))\n",
    "print('Score standard deviations:', scores_std.round(4))\n",
    "print('Best parameters:', model.best_params_)\n",
    "print('Best score:', round(model.best_score_, 4))"
   ]
  },
  {
   "cell_type": "code",
   "execution_count": 9,
   "metadata": {},
   "outputs": [
    {
     "data": {
      "text/html": [
       "<div>\n",
       "<style scoped>\n",
       "    .dataframe tbody tr th:only-of-type {\n",
       "        vertical-align: middle;\n",
       "    }\n",
       "\n",
       "    .dataframe tbody tr th {\n",
       "        vertical-align: top;\n",
       "    }\n",
       "\n",
       "    .dataframe thead th {\n",
       "        text-align: right;\n",
       "    }\n",
       "</style>\n",
       "<table border=\"1\" class=\"dataframe\">\n",
       "  <thead>\n",
       "    <tr style=\"text-align: right;\">\n",
       "      <th></th>\n",
       "      <th>PassengerId</th>\n",
       "      <th>Survived</th>\n",
       "    </tr>\n",
       "  </thead>\n",
       "  <tbody>\n",
       "    <tr>\n",
       "      <th>0</th>\n",
       "      <td>892</td>\n",
       "      <td>0</td>\n",
       "    </tr>\n",
       "    <tr>\n",
       "      <th>1</th>\n",
       "      <td>893</td>\n",
       "      <td>1</td>\n",
       "    </tr>\n",
       "    <tr>\n",
       "      <th>2</th>\n",
       "      <td>894</td>\n",
       "      <td>0</td>\n",
       "    </tr>\n",
       "    <tr>\n",
       "      <th>3</th>\n",
       "      <td>895</td>\n",
       "      <td>0</td>\n",
       "    </tr>\n",
       "    <tr>\n",
       "      <th>4</th>\n",
       "      <td>896</td>\n",
       "      <td>1</td>\n",
       "    </tr>\n",
       "    <tr>\n",
       "      <th>5</th>\n",
       "      <td>897</td>\n",
       "      <td>0</td>\n",
       "    </tr>\n",
       "    <tr>\n",
       "      <th>6</th>\n",
       "      <td>898</td>\n",
       "      <td>1</td>\n",
       "    </tr>\n",
       "    <tr>\n",
       "      <th>7</th>\n",
       "      <td>899</td>\n",
       "      <td>0</td>\n",
       "    </tr>\n",
       "    <tr>\n",
       "      <th>8</th>\n",
       "      <td>900</td>\n",
       "      <td>1</td>\n",
       "    </tr>\n",
       "    <tr>\n",
       "      <th>9</th>\n",
       "      <td>901</td>\n",
       "      <td>0</td>\n",
       "    </tr>\n",
       "  </tbody>\n",
       "</table>\n",
       "</div>"
      ],
      "text/plain": [
       "   PassengerId  Survived\n",
       "0          892         0\n",
       "1          893         1\n",
       "2          894         0\n",
       "3          895         0\n",
       "4          896         1\n",
       "5          897         0\n",
       "6          898         1\n",
       "7          899         0\n",
       "8          900         1\n",
       "9          901         0"
      ]
     },
     "execution_count": 9,
     "metadata": {},
     "output_type": "execute_result"
    }
   ],
   "source": [
    "# Make predictions\n",
    "\n",
    "submission = pd.DataFrame(columns=['PassengerId', 'Survived'])\n",
    "submission['Survived'] = model.predict(X_test)\n",
    "submission['PassengerId'] = submission.index + 892\n",
    "submission.head(10)"
   ]
  },
  {
   "cell_type": "code",
   "execution_count": 10,
   "metadata": {},
   "outputs": [],
   "source": [
    "# Export to csv\n",
    "\n",
    "submission.to_csv('outputs/submission_svm.csv', index=False)"
   ]
  }
 ],
 "metadata": {
  "kernelspec": {
   "display_name": "venv",
   "language": "python",
   "name": "python3"
  },
  "language_info": {
   "codemirror_mode": {
    "name": "ipython",
    "version": 3
   },
   "file_extension": ".py",
   "mimetype": "text/x-python",
   "name": "python",
   "nbconvert_exporter": "python",
   "pygments_lexer": "ipython3",
   "version": "3.11.3"
  },
  "orig_nbformat": 4
 },
 "nbformat": 4,
 "nbformat_minor": 2
}
